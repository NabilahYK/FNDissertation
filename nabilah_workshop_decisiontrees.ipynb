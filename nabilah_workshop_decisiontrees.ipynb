{
 "cells": [
  {
   "cell_type": "markdown",
   "metadata": {
    "id": "5jiwwebEMpTt"
   },
   "source": [
    "---\n",
    "# **DECISION TREES AND RANDOM FORESTS**\n",
    "---"
   ]
  },
  {
   "cell_type": "markdown",
   "metadata": {
    "id": "I-mX55QiYzM4"
   },
   "source": [
    "Nabilsh's second workshop of Data Analysis and Machine Learning  This one is all about the decision tree, an interpretable and intuitive '*if-else*' classifier that learns to divide your dataset into subsets according to binary queries against the values of the features such that it separates out data belonging to different classes.\n",
    "\n"
   ]
  },
  {
   "cell_type": "markdown",
   "metadata": {
    "id": "fnI_yHvJMs56"
   },
   "source": [
    "### (1) Loading Essential Libraries\n",
    "---\n",
    "Let's import `numpy` and `matplotlib.pyplot` to start, as we'll want to have these available throughout our notebook."
   ]
  },
  {
   "cell_type": "code",
   "execution_count": 2,
   "metadata": {
    "executionInfo": {
     "elapsed": 465,
     "status": "ok",
     "timestamp": 1698244464801,
     "user": {
      "displayName": "Conor Rankine",
      "userId": "06810270915558724800"
     },
     "user_tz": -60
    },
    "id": "wokH_NoCNMAx"
   },
   "outputs": [],
   "source": [
    "import numpy as np\n",
    "import matplotlib.pyplot as plt"
   ]
  },
  {
   "cell_type": "markdown",
   "metadata": {
    "id": "Lwp5nmfac4OO"
   },
   "source": [
    "### (2) Generating the Dataset\n",
    "---\n",
    "Let's import the `make_classification` function from `sklearn.datasets` and use it to generate some random mock data for a binary classification problem that we can try to solve with a decision tree. We'll generate a dataset comprising 200 examples: these data will have six features - four of these will be useful and informative, while two will be useless and redundant - and belong to two classes.\n",
    "\n",
    "$\\mathbf{X}_{i}=[x_{i}^{(1)}, x_{i}^{(2)},...,x_{i}^{(6)}]$\n",
    "\n",
    "$y_{i}\\in(0,1)$"
   ]
  },
  {
   "cell_type": "code",
   "execution_count": 3,
   "metadata": {
    "executionInfo": {
     "elapsed": 1481,
     "status": "ok",
     "timestamp": 1698244468768,
     "user": {
      "displayName": "Conor Rankine",
      "userId": "06810270915558724800"
     },
     "user_tz": -60
    },
    "id": "O2xupTAKMxP-"
   },
   "outputs": [],
   "source": [
    "from sklearn.datasets import make_classification\n",
    "\n",
    "x, y = make_classification(\n",
    "    n_samples = 200,\n",
    "    n_features = 6,\n",
    "    n_informative = 4,\n",
    "    n_redundant = 2,\n",
    "    n_classes = 2,\n",
    "    random_state = 1\n",
    ")"
   ]
  },
  {
   "cell_type": "markdown",
   "metadata": {
    "id": "rTAZCesxOt74"
   },
   "source": [
    "### (3) Generating the Training and Testing Datasets\n",
    "---\n",
    "Let's import `train_test_split` from `sklearn.model_selection` and use it to split our dataset into a training and testing subsets. We'll optimise our model using the training subset, and then assess the performance using the testing subset. We'll use an 80:20 (training:testing) split, as this is a popular choice. In practice, this choice is often determined by how much data you have available - it often isn't a choice at all!"
   ]
  },
  {
   "cell_type": "code",
   "execution_count": 4,
   "metadata": {
    "executionInfo": {
     "elapsed": 263,
     "status": "ok",
     "timestamp": 1698244471358,
     "user": {
      "displayName": "Conor Rankine",
      "userId": "06810270915558724800"
     },
     "user_tz": -60
    },
    "id": "2Pq_cFPxOv1F"
   },
   "outputs": [],
   "source": [
    "from sklearn.model_selection import train_test_split\n",
    "\n",
    "x_train, x_test, y_train, y_test = train_test_split(\n",
    "    x, y, test_size = 0.2, random_state = 1\n",
    ")"
   ]
  },
  {
   "cell_type": "markdown",
   "metadata": {
    "id": "D28pDdBbPP0a"
   },
   "source": [
    "### (4) Growing Our First Decision Tree\n",
    "---\n",
    "The Scikit-Learn decision tree module (`sklearn.tree`) provides both decision trees for classification (`DecisionTreeClassifier`) and regression (`DecisionTreeRegressor`) ready to pot. Familiarise yourself with the documentation for the `DecisionTreeClassifier` and `DecisionTreeRegressor`, and take a look at the documentation for the `sklearn.tree` module too, as it contains plenty of useful functionality that we'll work with later.\n",
    "\n",
    "For now, let's simply create a decision tree classification model. The decision tree is going to split the data with the objective of minimising the Gini impurity associated with each split, and is going to keep growing until either i) all of the leaves are pure (i.e. each of the leaves contains only a single class and has a Gini impurity of 0.0), or ii) the maximum depth (of three splits) is exceeded."
   ]
  },
  {
   "cell_type": "code",
   "execution_count": 5,
   "metadata": {
    "executionInfo": {
     "elapsed": 264,
     "status": "ok",
     "timestamp": 1698244474791,
     "user": {
      "displayName": "Conor Rankine",
      "userId": "06810270915558724800"
     },
     "user_tz": -60
    },
    "id": "dQ0R4DthPR_C"
   },
   "outputs": [],
   "source": [
    "from sklearn.tree import DecisionTreeClassifier\n",
    "\n",
    "model = DecisionTreeClassifier(\n",
    "    criterion = 'gini', max_depth = 3, random_state = 1\n",
    ")"
   ]
  },
  {
   "cell_type": "markdown",
   "metadata": {
    "id": "4nc9Si49ah0p"
   },
   "source": [
    "### (5) Fitting\n",
    "---\n",
    "Let's fit the decision tree classifier to the training data."
   ]
  },
  {
   "cell_type": "code",
   "execution_count": 6,
   "metadata": {
    "colab": {
     "base_uri": "https://localhost:8080/",
     "height": 75
    },
    "executionInfo": {
     "elapsed": 11,
     "status": "ok",
     "timestamp": 1698244476955,
     "user": {
      "displayName": "Conor Rankine",
      "userId": "06810270915558724800"
     },
     "user_tz": -60
    },
    "id": "yRGmUIHpme7F",
    "outputId": "75a968c9-87a8-4188-d52d-d50936d36e18"
   },
   "outputs": [
    {
     "data": {
      "text/html": [
       "<style>#sk-container-id-1 {color: black;background-color: white;}#sk-container-id-1 pre{padding: 0;}#sk-container-id-1 div.sk-toggleable {background-color: white;}#sk-container-id-1 label.sk-toggleable__label {cursor: pointer;display: block;width: 100%;margin-bottom: 0;padding: 0.3em;box-sizing: border-box;text-align: center;}#sk-container-id-1 label.sk-toggleable__label-arrow:before {content: \"▸\";float: left;margin-right: 0.25em;color: #696969;}#sk-container-id-1 label.sk-toggleable__label-arrow:hover:before {color: black;}#sk-container-id-1 div.sk-estimator:hover label.sk-toggleable__label-arrow:before {color: black;}#sk-container-id-1 div.sk-toggleable__content {max-height: 0;max-width: 0;overflow: hidden;text-align: left;background-color: #f0f8ff;}#sk-container-id-1 div.sk-toggleable__content pre {margin: 0.2em;color: black;border-radius: 0.25em;background-color: #f0f8ff;}#sk-container-id-1 input.sk-toggleable__control:checked~div.sk-toggleable__content {max-height: 200px;max-width: 100%;overflow: auto;}#sk-container-id-1 input.sk-toggleable__control:checked~label.sk-toggleable__label-arrow:before {content: \"▾\";}#sk-container-id-1 div.sk-estimator input.sk-toggleable__control:checked~label.sk-toggleable__label {background-color: #d4ebff;}#sk-container-id-1 div.sk-label input.sk-toggleable__control:checked~label.sk-toggleable__label {background-color: #d4ebff;}#sk-container-id-1 input.sk-hidden--visually {border: 0;clip: rect(1px 1px 1px 1px);clip: rect(1px, 1px, 1px, 1px);height: 1px;margin: -1px;overflow: hidden;padding: 0;position: absolute;width: 1px;}#sk-container-id-1 div.sk-estimator {font-family: monospace;background-color: #f0f8ff;border: 1px dotted black;border-radius: 0.25em;box-sizing: border-box;margin-bottom: 0.5em;}#sk-container-id-1 div.sk-estimator:hover {background-color: #d4ebff;}#sk-container-id-1 div.sk-parallel-item::after {content: \"\";width: 100%;border-bottom: 1px solid gray;flex-grow: 1;}#sk-container-id-1 div.sk-label:hover label.sk-toggleable__label {background-color: #d4ebff;}#sk-container-id-1 div.sk-serial::before {content: \"\";position: absolute;border-left: 1px solid gray;box-sizing: border-box;top: 0;bottom: 0;left: 50%;z-index: 0;}#sk-container-id-1 div.sk-serial {display: flex;flex-direction: column;align-items: center;background-color: white;padding-right: 0.2em;padding-left: 0.2em;position: relative;}#sk-container-id-1 div.sk-item {position: relative;z-index: 1;}#sk-container-id-1 div.sk-parallel {display: flex;align-items: stretch;justify-content: center;background-color: white;position: relative;}#sk-container-id-1 div.sk-item::before, #sk-container-id-1 div.sk-parallel-item::before {content: \"\";position: absolute;border-left: 1px solid gray;box-sizing: border-box;top: 0;bottom: 0;left: 50%;z-index: -1;}#sk-container-id-1 div.sk-parallel-item {display: flex;flex-direction: column;z-index: 1;position: relative;background-color: white;}#sk-container-id-1 div.sk-parallel-item:first-child::after {align-self: flex-end;width: 50%;}#sk-container-id-1 div.sk-parallel-item:last-child::after {align-self: flex-start;width: 50%;}#sk-container-id-1 div.sk-parallel-item:only-child::after {width: 0;}#sk-container-id-1 div.sk-dashed-wrapped {border: 1px dashed gray;margin: 0 0.4em 0.5em 0.4em;box-sizing: border-box;padding-bottom: 0.4em;background-color: white;}#sk-container-id-1 div.sk-label label {font-family: monospace;font-weight: bold;display: inline-block;line-height: 1.2em;}#sk-container-id-1 div.sk-label-container {text-align: center;}#sk-container-id-1 div.sk-container {/* jupyter's `normalize.less` sets `[hidden] { display: none; }` but bootstrap.min.css set `[hidden] { display: none !important; }` so we also need the `!important` here to be able to override the default hidden behavior on the sphinx rendered scikit-learn.org. See: https://github.com/scikit-learn/scikit-learn/issues/21755 */display: inline-block !important;position: relative;}#sk-container-id-1 div.sk-text-repr-fallback {display: none;}</style><div id=\"sk-container-id-1\" class=\"sk-top-container\"><div class=\"sk-text-repr-fallback\"><pre>DecisionTreeClassifier(max_depth=3, random_state=1)</pre><b>In a Jupyter environment, please rerun this cell to show the HTML representation or trust the notebook. <br />On GitHub, the HTML representation is unable to render, please try loading this page with nbviewer.org.</b></div><div class=\"sk-container\" hidden><div class=\"sk-item\"><div class=\"sk-estimator sk-toggleable\"><input class=\"sk-toggleable__control sk-hidden--visually\" id=\"sk-estimator-id-1\" type=\"checkbox\" checked><label for=\"sk-estimator-id-1\" class=\"sk-toggleable__label sk-toggleable__label-arrow\">DecisionTreeClassifier</label><div class=\"sk-toggleable__content\"><pre>DecisionTreeClassifier(max_depth=3, random_state=1)</pre></div></div></div></div></div>"
      ],
      "text/plain": [
       "DecisionTreeClassifier(max_depth=3, random_state=1)"
      ]
     },
     "execution_count": 6,
     "metadata": {},
     "output_type": "execute_result"
    }
   ],
   "source": [
    "model.fit(x_train, y_train)"
   ]
  },
  {
   "cell_type": "markdown",
   "metadata": {
    "id": "QXjfEvE6QtOS"
   },
   "source": [
    "### (6) Prediction\n",
    "---\n",
    "Let's predict the class labels of the testing data using the decision tree classifier."
   ]
  },
  {
   "cell_type": "code",
   "execution_count": 7,
   "metadata": {
    "executionInfo": {
     "elapsed": 3,
     "status": "ok",
     "timestamp": 1698244478116,
     "user": {
      "displayName": "Conor Rankine",
      "userId": "06810270915558724800"
     },
     "user_tz": -60
    },
    "id": "qATHIJfYQwPS"
   },
   "outputs": [],
   "source": [
    "y_predict = model.predict(x_test)"
   ]
  },
  {
   "cell_type": "markdown",
   "metadata": {
    "id": "du0w4OfvTdw4"
   },
   "source": [
    "### (7) Evaluation\n",
    "---\n",
    "We can use the convenient `accuracy_score` function from `sklearn.metrics` to assess the accuracy of our decision tree by comparing the predicted class labels, $\\hat{y}$, to the ground-truth class labels, $y$."
   ]
  },
  {
   "cell_type": "code",
   "execution_count": 8,
   "metadata": {
    "colab": {
     "base_uri": "https://localhost:8080/"
    },
    "executionInfo": {
     "elapsed": 8,
     "status": "ok",
     "timestamp": 1698244480183,
     "user": {
      "displayName": "Conor Rankine",
      "userId": "06810270915558724800"
     },
     "user_tz": -60
    },
    "id": "rNDZutebTkPS",
    "outputId": "35efdd5b-9eb1-43ec-8cb8-76aab9bf059d"
   },
   "outputs": [
    {
     "name": "stdout",
     "output_type": "stream",
     "text": [
      "Congratulations! Your decision tree scored an accuracy of 80%!\n"
     ]
    }
   ],
   "source": [
    "from sklearn.metrics import accuracy_score\n",
    "\n",
    "accuracy = accuracy_score(y_test, y_predict)\n",
    "\n",
    "print(f'Congratulations! Your decision tree scored an accuracy of {int(accuracy * 100)}%!')"
   ]
  },
  {
   "cell_type": "markdown",
   "metadata": {
    "id": "ycZbz9U_eLRS"
   },
   "source": [
    "### (8) Inspection\n",
    "---\n",
    "Let's take a look at the decision tree. We can use the `plot_tree` function from `sklearn.tree` to visualise the decision pathways. If we pass the `filled = True` argument to `plot_tree`, the boxes (nodes and leaves) on the decision tree plot are coloured according to their class (im)balance: white boxes are completely mixed (50:50 Classes A:B; Gini impurity = 0.5), while orange and blue boxes are imbalanced one way or the other in favour of either Class A or Class B (and could even be pure; Gini impurity = 0.0).\n",
    "\n",
    "**Question:** Are all of the leaves on this decision tree pure? If not, how could we make them pure?"
   ]
  },
  {
   "cell_type": "code",
   "execution_count": 9,
   "metadata": {
    "colab": {
     "base_uri": "https://localhost:8080/",
     "height": 632
    },
    "executionInfo": {
     "elapsed": 1175,
     "status": "ok",
     "timestamp": 1698244484200,
     "user": {
      "displayName": "Conor Rankine",
      "userId": "06810270915558724800"
     },
     "user_tz": -60
    },
    "id": "VT-pT39YeU6W",
    "outputId": "6e7eab6a-7a8c-4f6b-8b69-b59a4fa3da91"
   },
   "outputs": [
    {
     "data": {
      "text/plain": [
       "[Text(0.4583333333333333, 0.875, 'x[2] <= 0.264\\ngini = 0.5\\nsamples = 160\\nvalue = [82, 78]'),\n",
       " Text(0.25, 0.625, 'x[4] <= 0.868\\ngini = 0.278\\nsamples = 66\\nvalue = [11, 55]'),\n",
       " Text(0.16666666666666666, 0.375, 'x[4] <= -0.608\\ngini = 0.387\\nsamples = 42\\nvalue = [11, 31]'),\n",
       " Text(0.08333333333333333, 0.125, 'gini = 0.0\\nsamples = 14\\nvalue = [0, 14]'),\n",
       " Text(0.25, 0.125, 'gini = 0.477\\nsamples = 28\\nvalue = [11, 17]'),\n",
       " Text(0.3333333333333333, 0.375, 'gini = 0.0\\nsamples = 24\\nvalue = [0, 24]'),\n",
       " Text(0.6666666666666666, 0.625, 'x[4] <= -0.423\\ngini = 0.37\\nsamples = 94\\nvalue = [71, 23]'),\n",
       " Text(0.5, 0.375, 'x[2] <= 1.676\\ngini = 0.153\\nsamples = 24\\nvalue = [2, 22]'),\n",
       " Text(0.4166666666666667, 0.125, 'gini = 0.0\\nsamples = 20\\nvalue = [0, 20]'),\n",
       " Text(0.5833333333333334, 0.125, 'gini = 0.5\\nsamples = 4\\nvalue = [2, 2]'),\n",
       " Text(0.8333333333333334, 0.375, 'x[1] <= -1.138\\ngini = 0.028\\nsamples = 70\\nvalue = [69, 1]'),\n",
       " Text(0.75, 0.125, 'gini = 0.0\\nsamples = 1\\nvalue = [0, 1]'),\n",
       " Text(0.9166666666666666, 0.125, 'gini = 0.0\\nsamples = 69\\nvalue = [69, 0]')]"
      ]
     },
     "execution_count": 9,
     "metadata": {},
     "output_type": "execute_result"
    },
    {
     "data": {
      "image/png": "[encoded data removed]",
      "text/plain": [
       "<Figure size 640x480 with 1 Axes>"
      ]
     },
     "metadata": {},
     "output_type": "display_data"
    }
   ],
   "source": [
    "from sklearn.tree import plot_tree\n",
    "\n",
    "plot_tree(\n",
    "    model,\n",
    "    filled = True\n",
    ")"
   ]
  },
  {
   "cell_type": "markdown",
   "metadata": {
    "id": "SKFTl744AJuZ"
   },
   "source": [
    "---\n",
    "## Workshop Problems\n",
    "---"
   ]
  },
  {
   "cell_type": "markdown",
   "metadata": {
    "id": "2_sSYHEE1psC"
   },
   "source": [
    "### (1) Decision Tree Depth Optimisation\n",
    "---\n",
    "The depth of the decision tree (controlled by the `max_depth`) is an important hyperparameter; shallow (or short) decision trees with a low `max_depth` are likely to underfit your data, while deep (or tall) decision trees with a high `max_depth` are likely to overfit your data to the point that the decision tree might memorise your entire dataset if deep enough!\n",
    "\n",
    "**Task:** Experiment with the `max_depth` hyperparameter. Write a loop over the `max_depth` values 1 through to 10 and, at each iteration, grow a decision tree with that `max_depth`; fit the decision tree, and then evaluate the accuracy score on both the training subset and the testing subset. Print the accuracy score on the training subset and the testing subset at each iteration. What do you see?\n",
    "\n",
    "**Question:** How deep does the decision tree need to be to i) reach perfect (100\\%) performance on the training subset, and ii) reach optimal performance on the testing subset?"
   ]
  },
  {
   "cell_type": "code",
   "execution_count": 10,
   "metadata": {
    "colab": {
     "base_uri": "https://localhost:8080/"
    },
    "executionInfo": {
     "elapsed": 254,
     "status": "ok",
     "timestamp": 1698244492704,
     "user": {
      "displayName": "Conor Rankine",
      "userId": "06810270915558724800"
     },
     "user_tz": -60
    },
    "id": "XoxLYYbJgMkN",
    "outputId": "704d78f5-1329-4b35-ea99-b230392ff299"
   },
   "outputs": [
    {
     "name": "stdout",
     "output_type": "stream",
     "text": [
      "Maximum Tree Depth: 1\n",
      "Training Accuracy: 78%\t Testing Accuracy 62%\n",
      "Maximum Tree Depth: 2\n",
      "Training Accuracy: 91%\t Testing Accuracy 80%\n",
      "Maximum Tree Depth: 3\n",
      "Training Accuracy: 91%\t Testing Accuracy 80%\n",
      "Maximum Tree Depth: 4\n",
      "Training Accuracy: 97%\t Testing Accuracy 82%\n",
      "Maximum Tree Depth: 5\n",
      "Training Accuracy: 98%\t Testing Accuracy 85%\n",
      "Maximum Tree Depth: 6\n",
      "Training Accuracy: 99%\t Testing Accuracy 85%\n",
      "Maximum Tree Depth: 7\n",
      "Training Accuracy: 100%\t Testing Accuracy 85%\n",
      "Maximum Tree Depth: 8\n",
      "Training Accuracy: 100%\t Testing Accuracy 85%\n",
      "Maximum Tree Depth: 9\n",
      "Training Accuracy: 100%\t Testing Accuracy 85%\n"
     ]
    }
   ],
   "source": [
    "max_depths = [i for i in range(1,10)]\n",
    "\n",
    "for max_depth in max_depths:\n",
    "\n",
    "  model = DecisionTreeClassifier(criterion = 'gini', max_depth = max_depth, random_state = 1)\n",
    "\n",
    "  model.fit(x_train, y_train)\n",
    "\n",
    "  y_predict_test = model.predict(x_test)\n",
    "  accuracy_test = accuracy_score(y_test, y_predict_test)\n",
    "\n",
    "  y_predict_train = model.predict(x_train)\n",
    "  accuracy_train = accuracy_score(y_train, y_predict_train)\n",
    "\n",
    "  print(\n",
    "      f'Maximum Tree Depth: {max_depth}'\n",
    "  )\n",
    "\n",
    "  print(\n",
    "    f'Training Accuracy: {int(accuracy_train * 100)}%\\t',\n",
    "    f'Testing Accuracy {int(accuracy_test * 100)}%'\n",
    "  )\n"
   ]
  },
  {
   "cell_type": "markdown",
   "metadata": {
    "id": "U1ttyIBs3-kl"
   },
   "source": [
    "### (2) Decision Tree Regressors\n",
    "---\n",
    "The `DecisionTreeRegressor` lets us solve regression problems with decision trees. Let's import the `make_regression` function from `sklearn.datasets` and use it to generate some random mock data for a regression problem that we can try to solve with a decision tree. We'll generate a dataset comprising 100 examples: these data will have two informative features and one regression target."
   ]
  },
  {
   "cell_type": "code",
   "execution_count": 11,
   "metadata": {
    "executionInfo": {
     "elapsed": 265,
     "status": "ok",
     "timestamp": 1698244503146,
     "user": {
      "displayName": "Conor Rankine",
      "userId": "06810270915558724800"
     },
     "user_tz": -60
    },
    "id": "zmqXw6VT4jL3"
   },
   "outputs": [],
   "source": [
    "from sklearn.datasets import make_regression\n",
    "\n",
    "x, y = make_regression(\n",
    "    n_samples = 100,\n",
    "    n_features = 2,\n",
    "    n_informative = 2,\n",
    "    n_targets = 1,\n",
    "    noise = 0.25,\n",
    "    random_state = 1\n",
    ")"
   ]
  },
  {
   "cell_type": "markdown",
   "metadata": {
    "id": "9MmsAwYb418w"
   },
   "source": [
    "**Task:** Build a decision tree regressor to solve this problem using the `DecisionTreeRegressor` from `sklearn.tree`. Remember to read the `DecisionTreeRegressor` documentation first; not all of the arguments that are used to create a `DecisionTreeClassifier` still apply to a `DecisionTreeRegressor`! Don't forget to split your data into a training and testing subset. Think about how you're going to evaluate the accuracy of your decision tree. What metrics are available to evaluate accuracy on a regression problem? Check out the `sklearn.metrics` documentation, and import and use an appropriate accuracy metric. What is the best performance you can acheive?\n",
    "\n",
    "**Question:** Would this problem benefit from scaling or otherwise preprocessing the data? If yes or no - why?"
   ]
  },
  {
   "cell_type": "code",
   "execution_count": 17,
   "metadata": {
    "colab": {
     "base_uri": "https://localhost:8080/"
    },
    "executionInfo": {
     "elapsed": 615,
     "status": "ok",
     "timestamp": 1698244532045,
     "user": {
      "displayName": "Conor Rankine",
      "userId": "06810270915558724800"
     },
     "user_tz": -60
    },
    "id": "6TBOmNBB4Zd_",
    "outputId": "ce94a536-6605-4287-e4e9-3e12a8029186"
   },
   "outputs": [
    {
     "name": "stdout",
     "output_type": "stream",
     "text": [
      "Congratulations! Your decision tree scored an MSE of 277.514!\n"
     ]
    }
   ],
   "source": [
    "from sklearn.tree import DecisionTreeRegressor\n",
    "from sklearn.metrics import mean_squared_error\n",
    "\n",
    "x_train, x_test, y_train, y_test = train_test_split(\n",
    "    x, y, test_size = 0.2, random_state = 1\n",
    ")\n",
    "\n",
    "model = DecisionTreeRegressor(\n",
    "    max_depth = 10, random_state = 1\n",
    ")\n",
    "\n",
    "model.fit(x_train, y_train)\n",
    "\n",
    "y_predict = model.predict(x_test)\n",
    "\n",
    "mse = mean_squared_error(y_test, y_predict)\n",
    "\n",
    "print(f'Congratulations! Your decision tree scored an MSE of {mse:.3f}!')"
   ]
  },
  {
   "cell_type": "markdown",
   "metadata": {
    "id": "NENBuHEw7F-c"
   },
   "source": [
    "### (3) Classifying Images of Handwritten Digits with Decision Trees and Random Forests\n",
    "---\n",
    "A famous beginner problem in machine learning for image analysis is the recognition of handwritten digits from their (low-resolution; 8$\\times$8) scanned images. This is a multiclass classification problem since the dataset contains ten classes (the digits zero and one through to nine). There are 1797 examples in the digits dataset; each comprises 64 features and a single class label corresponding to the identity of the digit. The `sklearn.datasets` module contains a `load_digits` function; we can use the `load_digits` function to load a copy of this dataset, and we'll start by exploring it."
   ]
  },
  {
   "cell_type": "code",
   "execution_count": 18,
   "metadata": {
    "executionInfo": {
     "elapsed": 268,
     "status": "ok",
     "timestamp": 1698244541739,
     "user": {
      "displayName": "Conor Rankine",
      "userId": "06810270915558724800"
     },
     "user_tz": -60
    },
    "id": "zObwi0VM7N5V"
   },
   "outputs": [],
   "source": [
    "from sklearn.datasets import load_digits\n",
    "\n",
    "x, y = load_digits(return_X_y = True)"
   ]
  },
  {
   "cell_type": "markdown",
   "metadata": {
    "id": "pMOnvTym7dnc"
   },
   "source": [
    "Let's look at the data. Each example has 64 features; these are the pixel intensities of each of the 64 pixels comprising the 8$\\times$8-pixel image of the handwritten digit. If we want to view the image, we can use the `imshow` function from `matplotlib.pyplot`, although we'll have to reshape the flattened (1$\\times$64) feature vector into its original (8$\\times$8) image first.\n",
    "\n",
    "Try changing the value of the `example` variable at the top of the code block to look at different examples from our dataset."
   ]
  },
  {
   "cell_type": "code",
   "execution_count": 19,
   "metadata": {
    "colab": {
     "base_uri": "https://localhost:8080/",
     "height": 441
    },
    "executionInfo": {
     "elapsed": 419,
     "status": "ok",
     "timestamp": 1698244544407,
     "user": {
      "displayName": "Conor Rankine",
      "userId": "06810270915558724800"
     },
     "user_tz": -60
    },
    "id": "bHGu5c_S7fyH",
    "outputId": "aad91ed2-a281-4019-a8ee-ff4af7117ccb"
   },
   "outputs": [
    {
     "name": "stdout",
     "output_type": "stream",
     "text": [
      "This image is 3 as a handwritten digit:\n"
     ]
    },
    {
     "data": {
      "text/plain": [
       "(-0.5, 7.5, 7.5, -0.5)"
      ]
     },
     "execution_count": 19,
     "metadata": {},
     "output_type": "execute_result"
    },
    {
     "data": {
      "image/png": "[encoded data removed]",
      "text/plain": [
       "<Figure size 640x480 with 1 Axes>"
      ]
     },
     "metadata": {},
     "output_type": "display_data"
    }
   ],
   "source": [
    "example = 3\n",
    "\n",
    "print(f'This image is {y[example]} as a handwritten digit:')\n",
    "plt.imshow(x[example].reshape(8, 8))\n",
    "plt.axis('off')"
   ]
  },
  {
   "cell_type": "markdown",
   "metadata": {
    "id": "j9R3AKcs8PlM"
   },
   "source": [
    "**Task:** Build a decision tree classifier to solve this problem using the `DecisionTreeClassifier` from `sklearn.tree`. Don't forget to split your data into a training and testing subset. What is the best performance you can acheive?\n",
    "\n",
    "**Question:** How deep does the decision tree have to be to attain acceptable performance on this problem?"
   ]
  },
  {
   "cell_type": "code",
   "execution_count": 20,
   "metadata": {
    "colab": {
     "base_uri": "https://localhost:8080/"
    },
    "executionInfo": {
     "elapsed": 272,
     "status": "ok",
     "timestamp": 1698244547613,
     "user": {
      "displayName": "Conor Rankine",
      "userId": "06810270915558724800"
     },
     "user_tz": -60
    },
    "id": "RSe2Je2D8PMZ",
    "outputId": "f6ab5df6-1a3f-4df1-a165-a2e04cd30e25"
   },
   "outputs": [
    {
     "name": "stdout",
     "output_type": "stream",
     "text": [
      "Congratulations! Your decision tree scored an accuracy of 84%!\n"
     ]
    }
   ],
   "source": [
    "x_train, x_test, y_train, y_test = train_test_split(\n",
    "    x, y, test_size = 0.2, random_state = 1\n",
    ")\n",
    "\n",
    "model = DecisionTreeClassifier(\n",
    "    criterion = 'gini', max_depth = 10, random_state = 1\n",
    ")\n",
    "\n",
    "model.fit(x_train, y_train)\n",
    "\n",
    "y_predict = model.predict(x_test)\n",
    "\n",
    "accuracy = accuracy_score(y_predict, y_test)\n",
    "\n",
    "print(f'Congratulations! Your decision tree scored an accuracy of {int(accuracy * 100)}%!')"
   ]
  },
  {
   "cell_type": "markdown",
   "metadata": {
    "id": "5cD-uySy9D54"
   },
   "source": [
    "We can do better! Let's try to solve this problem with a random forest of decision trees instead.\n",
    "\n",
    "**Task:** Build a random forest classifier to solve this problem using the `RandomForestClassifier` from `sklearn.tree`. Remember to read the `RandomForestClassifier` documentation first so you're familiar with the additional arguments that the `RandomForestClassifier` takes. How many estimators (decision trees) are you going to use? You'll not need more than 50 for this problem. How deep do the trees need to be? Don't forget to split your data into a training and testing subset! What is the best performance you can acheive?\n",
    "\n",
    "**Question:** Is the random forest classifier better than the decision tree classifier?"
   ]
  },
  {
   "cell_type": "code",
   "execution_count": 21,
   "metadata": {
    "colab": {
     "base_uri": "https://localhost:8080/"
    },
    "executionInfo": {
     "elapsed": 865,
     "status": "ok",
     "timestamp": 1698244553876,
     "user": {
      "displayName": "Conor Rankine",
      "userId": "06810270915558724800"
     },
     "user_tz": -60
    },
    "id": "mgS1Vxz19HkV",
    "outputId": "f190e89f-f31c-4d09-9eb4-e5de6f5c31a4"
   },
   "outputs": [
    {
     "name": "stdout",
     "output_type": "stream",
     "text": [
      "Congratulations! Your random forest scored an accuracy of 95%!\n"
     ]
    }
   ],
   "source": [
    "from sklearn.ensemble import RandomForestClassifier\n",
    "\n",
    "x_train, x_test, y_train, y_test = train_test_split(\n",
    "    x, y, test_size = 0.2, random_state = 1\n",
    ")\n",
    "\n",
    "model = RandomForestClassifier(\n",
    "    n_estimators = 200, criterion = 'gini', max_depth = 5, random_state = 1\n",
    ")\n",
    "\n",
    "model.fit(x_train, y_train)\n",
    "\n",
    "y_predict = model.predict(x_test)\n",
    "\n",
    "accuracy = accuracy_score(y_predict, y_test)\n",
    "\n",
    "print(f'Congratulations! Your random forest scored an accuracy of {int(accuracy * 100)}%!')"
   ]
  },
  {
   "cell_type": "markdown",
   "metadata": {
    "id": "hqpU8_W7-eMt"
   },
   "source": [
    "See the improvement in performance as you grow additional trees!\n",
    "\n",
    "**Task:** Write a loop over the `n_estimators` values 1 through to 25 and, at each iteration, grow a random forest with that many estimators (trees); fit the random forest, and then evaluate the accuracy score on the testing subset. Save the accuracy score to a list at each iteration, and then plot the value of `n_estimators` against the accuracy.\n",
    "\n",
    "**Question:** How many trees is enough?"
   ]
  },
  {
   "cell_type": "code",
   "execution_count": 22,
   "metadata": {
    "colab": {
     "base_uri": "https://localhost:8080/",
     "height": 472
    },
    "executionInfo": {
     "elapsed": 1316,
     "status": "ok",
     "timestamp": 1698244562309,
     "user": {
      "displayName": "Conor Rankine",
      "userId": "06810270915558724800"
     },
     "user_tz": -60
    },
    "id": "0BArrNLg-fv2",
    "outputId": "b9356f9a-e16e-4605-e59a-6ceae832b7be"
   },
   "outputs": [
    {
     "data": {
      "text/plain": [
       "(0.6, 1.0)"
      ]
     },
     "execution_count": 22,
     "metadata": {},
     "output_type": "execute_result"
    },
    {
     "data": {
      "image/png": "[encoded data removed]",
      "text/plain": [
       "<Figure size 640x480 with 1 Axes>"
      ]
     },
     "metadata": {},
     "output_type": "display_data"
    }
   ],
   "source": [
    "x_train, x_test, y_train, y_test = train_test_split(\n",
    "    x, y, test_size = 0.2, random_state = 1\n",
    ")\n",
    "\n",
    "n_estimators = [i for i in range(1, 21)]\n",
    "accuracy = []\n",
    "\n",
    "for n in n_estimators:\n",
    "\n",
    "  model = RandomForestClassifier(\n",
    "    n_estimators = n, criterion = 'gini', max_depth = 5, random_state = 1\n",
    "  )\n",
    "\n",
    "  model.fit(x_train, y_train)\n",
    "\n",
    "  y_predict = model.predict(x_test)\n",
    "\n",
    "  accuracy.append(accuracy_score(y_predict, y_test))\n",
    "\n",
    "plt.plot(n_estimators, accuracy, c = 'black')\n",
    "plt.xlabel('N. Trees')\n",
    "plt.xlim(1, 20)\n",
    "plt.ylabel('Accuracy')\n",
    "plt.ylim(0.60, 1.00)"
   ]
  }
 ],
 "metadata": {
  "colab": {
   "authorship_tag": "ABX9TyO3pPDl4hhA9csww0+rLYwt",
   "provenance": []
  },
  "kernelspec": {
   "display_name": "Python 3",
   "name": "python3"
  },
  "language_info": {
   "name": "python"
  }
 },
 "nbformat": 4,
 "nbformat_minor": 0
}
